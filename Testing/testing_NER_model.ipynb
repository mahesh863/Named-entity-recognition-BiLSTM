{
  "nbformat": 4,
  "nbformat_minor": 0,
  "metadata": {
    "colab": {
      "name": "testing_NER_model.ipynb",
      "provenance": [],
      "collapsed_sections": []
    },
    "kernelspec": {
      "name": "python3",
      "display_name": "Python 3"
    },
    "language_info": {
      "name": "python"
    }
  },
  "cells": [
    {
      "cell_type": "code",
      "metadata": {
        "id": "BNJs9IQ1c6dL"
      },
      "source": [
        "#Model Weights\n",
        "!cp \"/content/drive/MyDrive/models/NER/NER.h5\" \"./\""
      ],
      "execution_count": 1,
      "outputs": []
    },
    {
      "cell_type": "code",
      "metadata": {
        "id": "yI9HLCIvn8He"
      },
      "source": [
        "#Tokenizer\n",
        "!cp \"/content/drive/MyDrive/models/NER/ner_tokenizer.json\" \"./\"\n",
        "!cp \"/content/drive/MyDrive/models/NER/txt_tokenizer.json\" \"./\""
      ],
      "execution_count": 2,
      "outputs": []
    },
    {
      "cell_type": "code",
      "metadata": {
        "id": "cWw4DHCTdLeY"
      },
      "source": [
        "import json\n",
        "import tensorflow as tf\n",
        "from tensorflow.keras.layers import Embedding, Bidirectional, LSTM, TimeDistributed, Dense\n",
        "from tensorflow.keras.preprocessing.text import tokenizer_from_json\n",
        "from tensorflow.keras.preprocessing.sequence import pad_sequences \n",
        "import numpy as np"
      ],
      "execution_count": 3,
      "outputs": []
    },
    {
      "cell_type": "code",
      "metadata": {
        "id": "hwr0a6B_fpn9"
      },
      "source": [
        "def build_model_bilstm(vocab_size, embedding_dim, rnn_units, batch_size, classes):\n",
        "    model = tf.keras.Sequential([\n",
        "        Embedding(vocab_size, embedding_dim, mask_zero=True,\n",
        "                  batch_input_shape=[batch_size,None]),\n",
        "        Bidirectional(LSTM(units=rnn_units,\n",
        "                           return_sequences=True)),\n",
        "        TimeDistributed(Dense(rnn_units, activation='relu')),\n",
        "        Dense(num_classes, activation=\"softmax\")\n",
        "    ])\n",
        "    \n",
        "    \n",
        "    return model"
      ],
      "execution_count": 4,
      "outputs": []
    },
    {
      "cell_type": "code",
      "metadata": {
        "id": "_Kja2sOWh8Es"
      },
      "source": [
        "with open('ner_tokenizer.json') as f:\n",
        "  data = json.load(f)\n",
        "  ner_tokenizer = tokenizer_from_json(data)\n",
        "\n",
        "with open('txt_tokenizer.json') as f:\n",
        "  data = json.load(f)\n",
        "  txt_tokenizer = tokenizer_from_json(data)"
      ],
      "execution_count": 5,
      "outputs": []
    },
    {
      "cell_type": "code",
      "metadata": {
        "id": "YZyxPrtRln-F"
      },
      "source": [
        "ner_config = ner_tokenizer.get_config()\n",
        "txt_config = txt_tokenizer.get_config()"
      ],
      "execution_count": 6,
      "outputs": []
    },
    {
      "cell_type": "code",
      "metadata": {
        "id": "Q6SMvaRKmQZ2"
      },
      "source": [
        "ner_vocab = eval(ner_config[\"word_index\"])\n",
        "txt_vocab = eval(txt_config[\"word_index\"])"
      ],
      "execution_count": 7,
      "outputs": []
    },
    {
      "cell_type": "code",
      "metadata": {
        "colab": {
          "base_uri": "https://localhost:8080/"
        },
        "id": "g0YBkB2epKzN",
        "outputId": "a179ed0e-a1bc-4f2e-fc70-f9c7af0e8f6e"
      },
      "source": [
        "ner_vocab"
      ],
      "execution_count": 8,
      "outputs": [
        {
          "output_type": "execute_result",
          "data": {
            "text/plain": [
              "{'<OOV>': 1,\n",
              " 'B-art': 12,\n",
              " 'B-eve': 13,\n",
              " 'B-geo': 3,\n",
              " 'B-gpe': 9,\n",
              " 'B-nat': 17,\n",
              " 'B-org': 5,\n",
              " 'B-per': 7,\n",
              " 'B-tim': 4,\n",
              " 'I-art': 14,\n",
              " 'I-eve': 15,\n",
              " 'I-geo': 10,\n",
              " 'I-gpe': 16,\n",
              " 'I-nat': 18,\n",
              " 'I-org': 8,\n",
              " 'I-per': 6,\n",
              " 'I-tim': 11,\n",
              " 'O': 2}"
            ]
          },
          "metadata": {},
          "execution_count": 8
        }
      ]
    },
    {
      "cell_type": "code",
      "metadata": {
        "id": "GouWm3BuofUC"
      },
      "source": [
        "vocab_size = len(txt_vocab) + 1\n",
        "embedding_dim = 64\n",
        "rnn_units = 100\n",
        "BATCH_SIZE=1\n",
        "num_classes = len(ner_vocab) + 1\n",
        "model = build_model_bilstm(\n",
        "    vocab_size = vocab_size,\n",
        "    embedding_dim=embedding_dim, rnn_units=rnn_units, batch_size=BATCH_SIZE,\n",
        "    classes=num_classes)"
      ],
      "execution_count": 9,
      "outputs": []
    },
    {
      "cell_type": "code",
      "metadata": {
        "id": "y21IELKOhOrg"
      },
      "source": [
        "model.load_weights(\"NER.h5\")"
      ],
      "execution_count": 10,
      "outputs": []
    },
    {
      "cell_type": "code",
      "metadata": {
        "id": "gmzeFgwP6sjU"
      },
      "source": [
        "ner_keys = list(ner_vocab.keys())\n",
        "ner_values = list(ner_vocab.values())"
      ],
      "execution_count": 11,
      "outputs": []
    },
    {
      "cell_type": "code",
      "metadata": {
        "id": "zTtHx8Fa6qse"
      },
      "source": [
        "def get_result(result):\n",
        "  result_index = []\n",
        "  actual_result = []\n",
        "  for i in range(result.shape[1]):\n",
        "    ner_pred = np.argmax(result[0][i])\n",
        "    result_index.append(ner_pred)\n",
        "  for r in result_index:\n",
        "    pos = ner_values.index(r)\n",
        "    actual_result.append(ner_keys[pos])\n",
        "  return actual_result"
      ],
      "execution_count": 12,
      "outputs": []
    },
    {
      "cell_type": "code",
      "metadata": {
        "colab": {
          "base_uri": "https://localhost:8080/"
        },
        "id": "859Gec2_oj55",
        "outputId": "6890107a-8e2f-4096-e3aa-f4404b21df32"
      },
      "source": [
        "model.summary()"
      ],
      "execution_count": 13,
      "outputs": [
        {
          "output_type": "stream",
          "name": "stdout",
          "text": [
            "Model: \"sequential\"\n",
            "_________________________________________________________________\n",
            " Layer (type)                Output Shape              Param #   \n",
            "=================================================================\n",
            " embedding (Embedding)       (1, None, 64)             2523072   \n",
            "                                                                 \n",
            " bidirectional (Bidirectiona  (1, None, 200)           132000    \n",
            " l)                                                              \n",
            "                                                                 \n",
            " time_distributed (TimeDistr  (1, None, 100)           20100     \n",
            " ibuted)                                                         \n",
            "                                                                 \n",
            " dense_1 (Dense)             (1, None, 19)             1919      \n",
            "                                                                 \n",
            "=================================================================\n",
            "Total params: 2,677,091\n",
            "Trainable params: 2,677,091\n",
            "Non-trainable params: 0\n",
            "_________________________________________________________________\n"
          ]
        }
      ]
    },
    {
      "cell_type": "code",
      "metadata": {
        "id": "Irc-UhcCq7eQ"
      },
      "source": [
        "def preprocess_text(sent):\n",
        "  sent = sent.split(\" \")\n",
        "  tokenized= txt_tokenizer.texts_to_sequences(sent)\n",
        "  tokenized_arr = []\n",
        "  for i in tokenized:\n",
        "    tokenized_arr.append(i[0])\n",
        "  return np.array(tokenized_arr).reshape(1, len(tokenized_arr))"
      ],
      "execution_count": 14,
      "outputs": []
    },
    {
      "cell_type": "code",
      "metadata": {
        "id": "PceFEVcZU5ED"
      },
      "source": [
        "def make_prediction(text, model= model):\n",
        "  text= text\n",
        "  tokenized_text = preprocess_text(text)\n",
        "  result= model.predict(tokenized_text)\n",
        "  pred = get_result(result)\n",
        "  return pred"
      ],
      "execution_count": 15,
      "outputs": []
    },
    {
      "cell_type": "code",
      "metadata": {
        "id": "0QUu06hgpqhi",
        "colab": {
          "base_uri": "https://localhost:8080/"
        },
        "outputId": "198be8e3-78f1-4e64-e8ed-b1f06d7780be"
      },
      "source": [
        "text = \"I want to visit New York\"\n",
        "make_prediction(text)"
      ],
      "execution_count": 16,
      "outputs": [
        {
          "output_type": "execute_result",
          "data": {
            "text/plain": [
              "['O', 'O', 'O', 'O', 'B-geo', 'I-geo']"
            ]
          },
          "metadata": {},
          "execution_count": 16
        }
      ]
    },
    {
      "cell_type": "markdown",
      "metadata": {
        "id": "v03AG_5kzGkX"
      },
      "source": [
        "The model was able to detect that New York as a \"Geographical\" Location"
      ]
    },
    {
      "cell_type": "code",
      "metadata": {
        "id": "z8LS0Gctw_hC",
        "colab": {
          "base_uri": "https://localhost:8080/"
        },
        "outputId": "eb0315b7-06fe-4cd7-f406-89b8cd87ea4c"
      },
      "source": [
        "text2 = \"My name is Mahesh\"\n",
        "make_prediction(text2)"
      ],
      "execution_count": 17,
      "outputs": [
        {
          "output_type": "execute_result",
          "data": {
            "text/plain": [
              "['O', 'O', 'O', 'B-per']"
            ]
          },
          "metadata": {},
          "execution_count": 17
        }
      ]
    },
    {
      "cell_type": "markdown",
      "metadata": {
        "id": "K-MQd6kHzbmn"
      },
      "source": [
        "The model was able to detect Mahesh as a \"Person\"."
      ]
    },
    {
      "cell_type": "code",
      "metadata": {
        "id": "oFr_0N0g0jWl",
        "colab": {
          "base_uri": "https://localhost:8080/"
        },
        "outputId": "8559103e-98dc-44b7-f6d6-16b46be5e619"
      },
      "source": [
        "text3 = \"Apple is a big company.\"\n",
        "make_prediction(text3)"
      ],
      "execution_count": 18,
      "outputs": [
        {
          "output_type": "execute_result",
          "data": {
            "text/plain": [
              "['B-org', 'O', 'O', 'O', 'B-org']"
            ]
          },
          "metadata": {},
          "execution_count": 18
        }
      ]
    },
    {
      "cell_type": "markdown",
      "metadata": {
        "id": "WLtxtOgOzp3k"
      },
      "source": [
        "The model was able to detect \"Apple\" as an \"Organization\". Also, it classified  \"Company\" as an \"Organization\".\n"
      ]
    },
    {
      "cell_type": "code",
      "metadata": {
        "colab": {
          "base_uri": "https://localhost:8080/"
        },
        "id": "Ho4m_d761Oeh",
        "outputId": "e2609992-c27f-4c68-81c7-c2d1e8a83842"
      },
      "source": [
        "text4 = \"I ordered lights from Amazon\"\n",
        "make_prediction(text4)"
      ],
      "execution_count": 19,
      "outputs": [
        {
          "output_type": "execute_result",
          "data": {
            "text/plain": [
              "['O', 'O', 'O', 'O', 'B-org']"
            ]
          },
          "metadata": {},
          "execution_count": 19
        }
      ]
    },
    {
      "cell_type": "markdown",
      "metadata": {
        "id": "LOxCDjJi0OUe"
      },
      "source": [
        "The model was able to detect \"Amazon\" as an \"Organization\"."
      ]
    },
    {
      "cell_type": "code",
      "metadata": {
        "colab": {
          "base_uri": "https://localhost:8080/"
        },
        "id": "yVdOiugHUTHK",
        "outputId": "dba41616-c65c-453f-c0f0-6b753356f868"
      },
      "source": [
        "text5 = \"Meet me in the morning\"\n",
        "make_prediction(text5)"
      ],
      "execution_count": 20,
      "outputs": [
        {
          "output_type": "execute_result",
          "data": {
            "text/plain": [
              "['O', 'O', 'O', 'O', 'B-tim']"
            ]
          },
          "metadata": {},
          "execution_count": 20
        }
      ]
    },
    {
      "cell_type": "markdown",
      "metadata": {
        "id": "q5rGEf300TL2"
      },
      "source": [
        "The model was able to detect \"morning\" as an \"Time\"."
      ]
    },
    {
      "cell_type": "code",
      "metadata": {
        "colab": {
          "base_uri": "https://localhost:8080/"
        },
        "id": "j_PYzyylxK8u",
        "outputId": "b2a9b93d-f701-4f99-aa2f-c8f2f1a7e736"
      },
      "source": [
        "text6 = \"Jeff would you like to have some coffee?\"\n",
        "make_prediction(text6)"
      ],
      "execution_count": 21,
      "outputs": [
        {
          "output_type": "execute_result",
          "data": {
            "text/plain": [
              "['B-per', 'O', 'O', 'O', 'O', 'O', 'O', 'O']"
            ]
          },
          "metadata": {},
          "execution_count": 21
        }
      ]
    },
    {
      "cell_type": "markdown",
      "metadata": {
        "id": "imUkuXpV0YHo"
      },
      "source": [
        "The model was able to detect \"Jeff\" as an \"Person\""
      ]
    },
    {
      "cell_type": "code",
      "metadata": {
        "id": "K3kcakP5xipg"
      },
      "source": [
        ""
      ],
      "execution_count": 21,
      "outputs": []
    }
  ]
}